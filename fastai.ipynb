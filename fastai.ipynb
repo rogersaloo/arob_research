{
 "cells": [
  {
   "cell_type": "code",
   "execution_count": 29,
   "id": "b5bbf423",
   "metadata": {},
   "outputs": [],
   "source": [
    "\n",
    "import torch\n",
    "import warnings\n",
    "import pandas as pd\n",
    "from fastai.vision.all import *\n",
    "from fastai.text.all import *\n",
    "from fastai.collab import *\n",
    "from fastai.tabular.all import *\n",
    "import image_tabular\n",
    "from fastai.vision import *\n",
    "from fastai.tabular import *"
   ]
  },
  {
   "cell_type": "code",
   "execution_count": 31,
   "id": "7bf77c99",
   "metadata": {},
   "outputs": [
    {
     "ename": "NameError",
     "evalue": "name 'Tuple' is not defined",
     "output_type": "error",
     "traceback": [
      "\u001b[1;31m------------------------------------------------------------------------\u001b[0m",
      "\u001b[1;31mNameError\u001b[0m                              Traceback (most recent call last)",
      "Input \u001b[1;32mIn [31]\u001b[0m, in \u001b[0;36m<cell line: 1>\u001b[1;34m()\u001b[0m\n\u001b[1;32m----> 1\u001b[0m \u001b[38;5;28;01mfrom\u001b[39;00m \u001b[38;5;21;01mimage_tabular\u001b[39;00m\u001b[38;5;21;01m.\u001b[39;00m\u001b[38;5;21;01mcore\u001b[39;00m \u001b[38;5;28;01mimport\u001b[39;00m \u001b[38;5;241m*\u001b[39m\n\u001b[0;32m      2\u001b[0m \u001b[38;5;28;01mfrom\u001b[39;00m \u001b[38;5;21;01mimage_tabular\u001b[39;00m\u001b[38;5;21;01m.\u001b[39;00m\u001b[38;5;21;01mdataset\u001b[39;00m \u001b[38;5;28;01mimport\u001b[39;00m \u001b[38;5;241m*\u001b[39m\n\u001b[0;32m      3\u001b[0m \u001b[38;5;28;01mfrom\u001b[39;00m \u001b[38;5;21;01mimage_tabular\u001b[39;00m\u001b[38;5;21;01m.\u001b[39;00m\u001b[38;5;21;01mmodel\u001b[39;00m \u001b[38;5;28;01mimport\u001b[39;00m \u001b[38;5;241m*\u001b[39m\n",
      "File \u001b[1;32m~\\anaconda3\\envs\\sortData\\lib\\site-packages\\image_tabular\\core.py:19\u001b[0m, in \u001b[0;36m<module>\u001b[1;34m\u001b[0m\n\u001b[0;32m     16\u001b[0m     \u001b[38;5;28;01mreturn\u001b[39;00m val_idx\n\u001b[0;32m     18\u001b[0m \u001b[38;5;66;03m# Cell\u001b[39;00m\n\u001b[1;32m---> 19\u001b[0m \u001b[38;5;28;01mdef\u001b[39;00m \u001b[38;5;21m_normalize_batch_image_tab\u001b[39m(b:\u001b[43mTuple\u001b[49m[Tensor,Tensor],\n\u001b[0;32m     20\u001b[0m                                mean:FloatTensor,\n\u001b[0;32m     21\u001b[0m                                std:FloatTensor,\n\u001b[0;32m     22\u001b[0m                                do_x:\u001b[38;5;28mbool\u001b[39m\u001b[38;5;241m=\u001b[39m\u001b[38;5;28;01mTrue\u001b[39;00m,\n\u001b[0;32m     23\u001b[0m                                do_y:\u001b[38;5;28mbool\u001b[39m\u001b[38;5;241m=\u001b[39m\u001b[38;5;28;01mFalse\u001b[39;00m)\u001b[38;5;241m-\u001b[39m\u001b[38;5;241m>\u001b[39mTuple[Tensor,Tensor]:\n\u001b[0;32m     24\u001b[0m     \u001b[38;5;124m\"\u001b[39m\u001b[38;5;124m`b` = `x`,`y` - normalize `x` array of imgs and `do_y` optionally `y`.\u001b[39m\u001b[38;5;124m\"\u001b[39m\n\u001b[0;32m     25\u001b[0m     x,y \u001b[38;5;241m=\u001b[39m b\n",
      "\u001b[1;31mNameError\u001b[0m: name 'Tuple' is not defined"
     ]
    }
   ],
   "source": [
    "from image_tabular.core import *\n",
    "from image_tabular.dataset import *\n",
    "from image_tabular.model import *\n",
    "from image_tabular.metric import *"
   ]
  },
  {
   "cell_type": "code",
   "execution_count": 6,
   "id": "e878b67c",
   "metadata": {},
   "outputs": [
    {
     "name": "stdout",
     "output_type": "stream",
     "text": [
      "Requirement already satisfied: image-tabular in c:\\users\\aloo\\anaconda3\\envs\\sortdata\\lib\\site-packages (0.0.6)\n",
      "Requirement already satisfied: torchvision in c:\\users\\aloo\\anaconda3\\envs\\sortdata\\lib\\site-packages (from image-tabular) (0.12.0)\n",
      "Requirement already satisfied: torch in c:\\users\\aloo\\anaconda3\\envs\\sortdata\\lib\\site-packages (from image-tabular) (1.11.0)\n",
      "Requirement already satisfied: scikit-learn in c:\\users\\aloo\\anaconda3\\envs\\sortdata\\lib\\site-packages (from image-tabular) (1.0.2)\n",
      "Requirement already satisfied: fastai in c:\\users\\aloo\\anaconda3\\envs\\sortdata\\lib\\site-packages (from image-tabular) (2.6.3)\n",
      "Requirement already satisfied: pyyaml in c:\\users\\aloo\\anaconda3\\envs\\sortdata\\lib\\site-packages (from fastai->image-tabular) (6.0)\n",
      "Requirement already satisfied: pandas in c:\\users\\aloo\\anaconda3\\envs\\sortdata\\lib\\site-packages (from fastai->image-tabular) (1.4.2)\n",
      "Requirement already satisfied: pillow>6.0.0 in c:\\users\\aloo\\anaconda3\\envs\\sortdata\\lib\\site-packages (from fastai->image-tabular) (9.1.1)\n",
      "Requirement already satisfied: pip in c:\\users\\aloo\\anaconda3\\envs\\sortdata\\lib\\site-packages (from fastai->image-tabular) (21.2.4)\n",
      "Requirement already satisfied: packaging in c:\\users\\aloo\\anaconda3\\envs\\sortdata\\lib\\site-packages (from fastai->image-tabular) (21.3)\n",
      "Requirement already satisfied: matplotlib in c:\\users\\aloo\\anaconda3\\envs\\sortdata\\lib\\site-packages (from fastai->image-tabular) (3.5.2)\n",
      "Requirement already satisfied: scipy in c:\\users\\aloo\\anaconda3\\envs\\sortdata\\lib\\site-packages (from fastai->image-tabular) (1.7.3)\n",
      "Requirement already satisfied: spacy<4 in c:\\users\\aloo\\anaconda3\\envs\\sortdata\\lib\\site-packages (from fastai->image-tabular) (3.3.0)\n",
      "Requirement already satisfied: fastdownload<2,>=0.0.5 in c:\\users\\aloo\\anaconda3\\envs\\sortdata\\lib\\site-packages (from fastai->image-tabular) (0.0.6)\n",
      "Requirement already satisfied: fastcore<1.5,>=1.3.27 in c:\\users\\aloo\\anaconda3\\envs\\sortdata\\lib\\site-packages (from fastai->image-tabular) (1.4.3)\n",
      "Requirement already satisfied: requests in c:\\users\\aloo\\anaconda3\\envs\\sortdata\\lib\\site-packages (from fastai->image-tabular) (2.27.1)\n",
      "Requirement already satisfied: fastprogress>=0.2.4 in c:\\users\\aloo\\anaconda3\\envs\\sortdata\\lib\\site-packages (from fastai->image-tabular) (1.0.2)\n",
      "Requirement already satisfied: pathy>=0.3.5 in c:\\users\\aloo\\anaconda3\\envs\\sortdata\\lib\\site-packages (from spacy<4->fastai->image-tabular) (0.6.1)\n",
      "Requirement already satisfied: spacy-loggers<2.0.0,>=1.0.0 in c:\\users\\aloo\\anaconda3\\envs\\sortdata\\lib\\site-packages (from spacy<4->fastai->image-tabular) (1.0.2)\n",
      "Requirement already satisfied: typer<0.5.0,>=0.3.0 in c:\\users\\aloo\\anaconda3\\envs\\sortdata\\lib\\site-packages (from spacy<4->fastai->image-tabular) (0.4.1)\n",
      "Requirement already satisfied: thinc<8.1.0,>=8.0.14 in c:\\users\\aloo\\anaconda3\\envs\\sortdata\\lib\\site-packages (from spacy<4->fastai->image-tabular) (8.0.16)\n",
      "Requirement already satisfied: cymem<2.1.0,>=2.0.2 in c:\\users\\aloo\\anaconda3\\envs\\sortdata\\lib\\site-packages (from spacy<4->fastai->image-tabular) (2.0.6)\n",
      "Requirement already satisfied: langcodes<4.0.0,>=3.2.0 in c:\\users\\aloo\\anaconda3\\envs\\sortdata\\lib\\site-packages (from spacy<4->fastai->image-tabular) (3.3.0)\n",
      "Requirement already satisfied: setuptools in c:\\users\\aloo\\anaconda3\\envs\\sortdata\\lib\\site-packages (from spacy<4->fastai->image-tabular) (61.2.0)\n",
      "Requirement already satisfied: tqdm<5.0.0,>=4.38.0 in c:\\users\\aloo\\anaconda3\\envs\\sortdata\\lib\\site-packages (from spacy<4->fastai->image-tabular) (4.64.0)\n",
      "Requirement already satisfied: pydantic!=1.8,!=1.8.1,<1.9.0,>=1.7.4 in c:\\users\\aloo\\anaconda3\\envs\\sortdata\\lib\\site-packages (from spacy<4->fastai->image-tabular) (1.8.2)\n",
      "Requirement already satisfied: blis<0.8.0,>=0.4.0 in c:\\users\\aloo\\anaconda3\\envs\\sortdata\\lib\\site-packages (from spacy<4->fastai->image-tabular) (0.7.7)\n",
      "Requirement already satisfied: wasabi<1.1.0,>=0.9.1 in c:\\users\\aloo\\anaconda3\\envs\\sortdata\\lib\\site-packages (from spacy<4->fastai->image-tabular) (0.9.1)\n",
      "Requirement already satisfied: jinja2 in c:\\users\\aloo\\anaconda3\\envs\\sortdata\\lib\\site-packages (from spacy<4->fastai->image-tabular) (3.0.3)\n",
      "Requirement already satisfied: numpy>=1.15.0 in c:\\users\\aloo\\anaconda3\\envs\\sortdata\\lib\\site-packages (from spacy<4->fastai->image-tabular) (1.22.3)\n",
      "Requirement already satisfied: spacy-legacy<3.1.0,>=3.0.9 in c:\\users\\aloo\\anaconda3\\envs\\sortdata\\lib\\site-packages (from spacy<4->fastai->image-tabular) (3.0.9)\n",
      "Requirement already satisfied: murmurhash<1.1.0,>=0.28.0 in c:\\users\\aloo\\anaconda3\\envs\\sortdata\\lib\\site-packages (from spacy<4->fastai->image-tabular) (1.0.7)\n",
      "Requirement already satisfied: srsly<3.0.0,>=2.4.3 in c:\\users\\aloo\\anaconda3\\envs\\sortdata\\lib\\site-packages (from spacy<4->fastai->image-tabular) (2.4.3)\n",
      "Requirement already satisfied: preshed<3.1.0,>=3.0.2 in c:\\users\\aloo\\anaconda3\\envs\\sortdata\\lib\\site-packages (from spacy<4->fastai->image-tabular) (3.0.6)\n",
      "Requirement already satisfied: catalogue<2.1.0,>=2.0.6 in c:\\users\\aloo\\anaconda3\\envs\\sortdata\\lib\\site-packages (from spacy<4->fastai->image-tabular) (2.0.7)\n",
      "Requirement already satisfied: pyparsing!=3.0.5,>=2.0.2 in c:\\users\\aloo\\anaconda3\\envs\\sortdata\\lib\\site-packages (from packaging->fastai->image-tabular) (3.0.4)\n",
      "Requirement already satisfied: smart-open<6.0.0,>=5.0.0 in c:\\users\\aloo\\anaconda3\\envs\\sortdata\\lib\\site-packages (from pathy>=0.3.5->spacy<4->fastai->image-tabular) (5.2.1)\n",
      "Requirement already satisfied: typing-extensions>=3.7.4.3 in c:\\users\\aloo\\anaconda3\\envs\\sortdata\\lib\\site-packages (from pydantic!=1.8,!=1.8.1,<1.9.0,>=1.7.4->spacy<4->fastai->image-tabular) (4.1.1)\n",
      "Requirement already satisfied: urllib3<1.27,>=1.21.1 in c:\\users\\aloo\\anaconda3\\envs\\sortdata\\lib\\site-packages (from requests->fastai->image-tabular) (1.26.9)\n",
      "Requirement already satisfied: charset-normalizer~=2.0.0 in c:\\users\\aloo\\anaconda3\\envs\\sortdata\\lib\\site-packages (from requests->fastai->image-tabular) (2.0.12)\n",
      "Requirement already satisfied: certifi>=2017.4.17 in c:\\users\\aloo\\anaconda3\\envs\\sortdata\\lib\\site-packages (from requests->fastai->image-tabular) (2022.5.18.1)\n",
      "Requirement already satisfied: idna<4,>=2.5 in c:\\users\\aloo\\anaconda3\\envs\\sortdata\\lib\\site-packages (from requests->fastai->image-tabular) (3.3)\n",
      "Requirement already satisfied: colorama in c:\\users\\aloo\\anaconda3\\envs\\sortdata\\lib\\site-packages (from tqdm<5.0.0,>=4.38.0->spacy<4->fastai->image-tabular) (0.4.4)\n",
      "Requirement already satisfied: click<9.0.0,>=7.1.1 in c:\\users\\aloo\\anaconda3\\envs\\sortdata\\lib\\site-packages (from typer<0.5.0,>=0.3.0->spacy<4->fastai->image-tabular) (8.1.3)\n",
      "Requirement already satisfied: MarkupSafe>=2.0 in c:\\users\\aloo\\anaconda3\\envs\\sortdata\\lib\\site-packages (from jinja2->spacy<4->fastai->image-tabular) (2.0.1)\n",
      "Requirement already satisfied: python-dateutil>=2.7 in c:\\users\\aloo\\anaconda3\\envs\\sortdata\\lib\\site-packages (from matplotlib->fastai->image-tabular) (2.8.2)\n",
      "Requirement already satisfied: kiwisolver>=1.0.1 in c:\\users\\aloo\\anaconda3\\envs\\sortdata\\lib\\site-packages (from matplotlib->fastai->image-tabular) (1.4.2)\n",
      "Requirement already satisfied: cycler>=0.10 in c:\\users\\aloo\\anaconda3\\envs\\sortdata\\lib\\site-packages (from matplotlib->fastai->image-tabular) (0.11.0)\n",
      "Requirement already satisfied: fonttools>=4.22.0 in c:\\users\\aloo\\anaconda3\\envs\\sortdata\\lib\\site-packages (from matplotlib->fastai->image-tabular) (4.33.3)\n",
      "Requirement already satisfied: six>=1.5 in c:\\users\\aloo\\anaconda3\\envs\\sortdata\\lib\\site-packages (from python-dateutil>=2.7->matplotlib->fastai->image-tabular) (1.16.0)\n",
      "Requirement already satisfied: pytz>=2020.1 in c:\\users\\aloo\\anaconda3\\envs\\sortdata\\lib\\site-packages (from pandas->fastai->image-tabular) (2021.3)\n",
      "Requirement already satisfied: threadpoolctl>=2.0.0 in c:\\users\\aloo\\anaconda3\\envs\\sortdata\\lib\\site-packages (from scikit-learn->image-tabular) (2.2.0)\n",
      "Requirement already satisfied: joblib>=0.11 in c:\\users\\aloo\\anaconda3\\envs\\sortdata\\lib\\site-packages (from scikit-learn->image-tabular) (1.1.0)\n"
     ]
    }
   ],
   "source": [
    "# !pip install image-tabular"
   ]
  },
  {
   "cell_type": "code",
   "execution_count": 7,
   "id": "f864577a",
   "metadata": {},
   "outputs": [],
   "source": [
    "# from image_tabular.core import *\n",
    "# from image_tabular.dataset import *\n",
    "# from image_tabular.model import *\n",
    "# from image_tabular.metric import *"
   ]
  },
  {
   "cell_type": "code",
   "execution_count": 8,
   "id": "811b0817",
   "metadata": {},
   "outputs": [],
   "source": [
    "# use gpu by default if available\n",
    "device = torch.device('cuda:0' if torch.cuda.is_available() else 'cpu')"
   ]
  },
  {
   "cell_type": "code",
   "execution_count": 9,
   "id": "d11c4b89",
   "metadata": {},
   "outputs": [],
   "source": [
    "warnings.filterwarnings(\"ignore\", category=UserWarning, module=\"torch.nn.functional\")"
   ]
  },
  {
   "cell_type": "code",
   "execution_count": 15,
   "id": "84ddc498",
   "metadata": {},
   "outputs": [],
   "source": [
    "data_path = ('alldata/')"
   ]
  },
  {
   "cell_type": "code",
   "execution_count": 16,
   "id": "9445ab81",
   "metadata": {},
   "outputs": [
    {
     "name": "stdout",
     "output_type": "stream",
     "text": [
      "48546 12137\n"
     ]
    }
   ],
   "source": [
    "#Import train and test based on the tabular data\n",
    "train_df = pd.read_csv(f\"{data_path}train_metadata.csv\")\n",
    "test_df = pd.read_csv(f\"{data_path}test_metadata.csv\")\n",
    "\n",
    "print(len(train_df), len(test_df))"
   ]
  },
  {
   "cell_type": "code",
   "execution_count": 17,
   "id": "4c9eb1f3",
   "metadata": {},
   "outputs": [
    {
     "data": {
      "text/html": [
       "<div>\n",
       "<style scoped>\n",
       "    .dataframe tbody tr th:only-of-type {\n",
       "        vertical-align: middle;\n",
       "    }\n",
       "\n",
       "    .dataframe tbody tr th {\n",
       "        vertical-align: top;\n",
       "    }\n",
       "\n",
       "    .dataframe thead th {\n",
       "        text-align: right;\n",
       "    }\n",
       "</style>\n",
       "<table border=\"1\" class=\"dataframe\">\n",
       "  <thead>\n",
       "    <tr style=\"text-align: right;\">\n",
       "      <th></th>\n",
       "      <th>Image Index</th>\n",
       "      <th>Finding Labels</th>\n",
       "      <th>Follow-up #</th>\n",
       "      <th>Patient ID</th>\n",
       "      <th>Patient Age</th>\n",
       "      <th>Patient Gender</th>\n",
       "      <th>View Position</th>\n",
       "      <th>OriginalImage[Width</th>\n",
       "      <th>Height]</th>\n",
       "      <th>OriginalImagePixelSpacing[x</th>\n",
       "      <th>y]</th>\n",
       "      <th>target</th>\n",
       "    </tr>\n",
       "  </thead>\n",
       "  <tbody>\n",
       "    <tr>\n",
       "      <th>0</th>\n",
       "      <td>00027799_001.png</td>\n",
       "      <td>No Finding</td>\n",
       "      <td>1</td>\n",
       "      <td>27799</td>\n",
       "      <td>25</td>\n",
       "      <td>F</td>\n",
       "      <td>AP</td>\n",
       "      <td>2732</td>\n",
       "      <td>2544</td>\n",
       "      <td>0.139</td>\n",
       "      <td>0.139</td>\n",
       "      <td>0</td>\n",
       "    </tr>\n",
       "    <tr>\n",
       "      <th>1</th>\n",
       "      <td>00022997_000.png</td>\n",
       "      <td>No Finding</td>\n",
       "      <td>0</td>\n",
       "      <td>22997</td>\n",
       "      <td>61</td>\n",
       "      <td>M</td>\n",
       "      <td>PA</td>\n",
       "      <td>2962</td>\n",
       "      <td>2991</td>\n",
       "      <td>0.143</td>\n",
       "      <td>0.143</td>\n",
       "      <td>0</td>\n",
       "    </tr>\n",
       "    <tr>\n",
       "      <th>2</th>\n",
       "      <td>00019021_004.png</td>\n",
       "      <td>No Finding</td>\n",
       "      <td>4</td>\n",
       "      <td>19021</td>\n",
       "      <td>44</td>\n",
       "      <td>M</td>\n",
       "      <td>PA</td>\n",
       "      <td>2992</td>\n",
       "      <td>2991</td>\n",
       "      <td>0.143</td>\n",
       "      <td>0.143</td>\n",
       "      <td>0</td>\n",
       "    </tr>\n",
       "    <tr>\n",
       "      <th>3</th>\n",
       "      <td>00020468_000.png</td>\n",
       "      <td>No Finding</td>\n",
       "      <td>0</td>\n",
       "      <td>20468</td>\n",
       "      <td>53</td>\n",
       "      <td>F</td>\n",
       "      <td>PA</td>\n",
       "      <td>2290</td>\n",
       "      <td>2991</td>\n",
       "      <td>0.143</td>\n",
       "      <td>0.143</td>\n",
       "      <td>0</td>\n",
       "    </tr>\n",
       "    <tr>\n",
       "      <th>4</th>\n",
       "      <td>00013829_007.png</td>\n",
       "      <td>No Finding</td>\n",
       "      <td>7</td>\n",
       "      <td>13829</td>\n",
       "      <td>33</td>\n",
       "      <td>M</td>\n",
       "      <td>PA</td>\n",
       "      <td>2992</td>\n",
       "      <td>2989</td>\n",
       "      <td>0.143</td>\n",
       "      <td>0.143</td>\n",
       "      <td>0</td>\n",
       "    </tr>\n",
       "  </tbody>\n",
       "</table>\n",
       "</div>"
      ],
      "text/plain": [
       "        Image Index Finding Labels  Follow-up #  Patient ID  Patient Age  \\\n",
       "0  00027799_001.png     No Finding            1       27799           25   \n",
       "1  00022997_000.png     No Finding            0       22997           61   \n",
       "2  00019021_004.png     No Finding            4       19021           44   \n",
       "3  00020468_000.png     No Finding            0       20468           53   \n",
       "4  00013829_007.png     No Finding            7       13829           33   \n",
       "\n",
       "  Patient Gender View Position  OriginalImage[Width  Height]  \\\n",
       "0              F            AP                 2732     2544   \n",
       "1              M            PA                 2962     2991   \n",
       "2              M            PA                 2992     2991   \n",
       "3              F            PA                 2290     2991   \n",
       "4              M            PA                 2992     2989   \n",
       "\n",
       "   OriginalImagePixelSpacing[x     y]  target  \n",
       "0                        0.139  0.139       0  \n",
       "1                        0.143  0.143       0  \n",
       "2                        0.143  0.143       0  \n",
       "3                        0.143  0.143       0  \n",
       "4                        0.143  0.143       0  "
      ]
     },
     "execution_count": 17,
     "metadata": {},
     "output_type": "execute_result"
    }
   ],
   "source": [
    "train_df.head()"
   ]
  },
  {
   "cell_type": "code",
   "execution_count": 19,
   "id": "dd6b55f2",
   "metadata": {},
   "outputs": [
    {
     "data": {
      "text/plain": [
       "0    0.9945\n",
       "1    0.0055\n",
       "Name: target, dtype: float64"
      ]
     },
     "execution_count": 19,
     "metadata": {},
     "output_type": "execute_result"
    }
   ],
   "source": [
    "#determine normal and pneumonia cases distribution\n",
    "distribution=train_df[\"target\"].value_counts(normalize=True)\n",
    "distribution"
   ]
  },
  {
   "cell_type": "markdown",
   "id": "cb2a7167",
   "metadata": {},
   "source": [
    "### Image data"
   ]
  },
  {
   "cell_type": "code",
   "execution_count": 23,
   "id": "f6f3fd59",
   "metadata": {},
   "outputs": [],
   "source": [
    "tfms = aug_transforms(flip_vert=True)\n",
    "size = 128"
   ]
  },
  {
   "cell_type": "code",
   "execution_count": 24,
   "id": "0f867a81",
   "metadata": {},
   "outputs": [],
   "source": [
    "#batch_size\n",
    "bs = 12"
   ]
  },
  {
   "cell_type": "code",
   "execution_count": 30,
   "id": "7baa2eaa",
   "metadata": {},
   "outputs": [
    {
     "ename": "NameError",
     "evalue": "name 'get_valid_index' is not defined",
     "output_type": "error",
     "traceback": [
      "\u001b[1;31m------------------------------------------------------------------------\u001b[0m",
      "\u001b[1;31mNameError\u001b[0m                              Traceback (most recent call last)",
      "Input \u001b[1;32mIn [30]\u001b[0m, in \u001b[0;36m<cell line: 2>\u001b[1;34m()\u001b[0m\n\u001b[0;32m      1\u001b[0m \u001b[38;5;66;03m# idx for validation, shared by image and tabular data\u001b[39;00m\n\u001b[1;32m----> 2\u001b[0m val_idx \u001b[38;5;241m=\u001b[39m \u001b[43mget_valid_index\u001b[49m(train_df)\n\u001b[0;32m      3\u001b[0m \u001b[38;5;28mlen\u001b[39m(val_idx)\n",
      "\u001b[1;31mNameError\u001b[0m: name 'get_valid_index' is not defined"
     ]
    }
   ],
   "source": [
    "# idx for validation, shared by image and tabular data\n",
    "val_idx = get_valid_index(train_df)\n",
    "len(val_idx)"
   ]
  },
  {
   "cell_type": "code",
   "execution_count": null,
   "id": "21b5f936",
   "metadata": {},
   "outputs": [],
   "source": []
  }
 ],
 "metadata": {
  "kernelspec": {
   "display_name": "Python 3 (ipykernel)",
   "language": "python",
   "name": "python3"
  },
  "language_info": {
   "codemirror_mode": {
    "name": "ipython",
    "version": 3
   },
   "file_extension": ".py",
   "mimetype": "text/x-python",
   "name": "python",
   "nbconvert_exporter": "python",
   "pygments_lexer": "ipython3",
   "version": "3.9.12"
  }
 },
 "nbformat": 4,
 "nbformat_minor": 5
}
